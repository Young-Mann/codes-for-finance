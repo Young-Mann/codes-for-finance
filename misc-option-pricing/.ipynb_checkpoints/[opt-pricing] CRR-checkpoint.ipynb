{
 "cells": [
  {
   "cell_type": "code",
   "execution_count": 53,
   "id": "95fe667f-4f92-4006-a39a-7afb78acc547",
   "metadata": {},
   "outputs": [],
   "source": [
    "import numpy as np\n",
    "import matplotlib.pyplot as plt"
   ]
  },
  {
   "cell_type": "code",
   "execution_count": 58,
   "id": "e34d4eca-6800-4daf-aef9-8bf632a37d91",
   "metadata": {},
   "outputs": [],
   "source": [
    "## Parameters Configuration\n",
    "# Und\n",
    "S_0 = 100\n",
    "SIGMA = 0.2\n",
    "R = 0.02\n",
    "Q = 0.01\n",
    "\n",
    "# Option\n",
    "T = 0.5\n",
    "K = 100\n",
    "TimeStep = 1000\n",
    "isCall = False\n",
    "payoff = (lambda S, K: np.maximum(S - K, 0) if isCall else np.maximum(K - S, 0))\n",
    "\n",
    "# Tree Model\n",
    "dt = T/TimeStep\n",
    "u = np.exp(SIGMA * np.sqrt(dt)); d = 1 / u\n",
    "qu = (np.exp((R-Q) * dt) - d) / (u-d); qd = 1 - qu\n",
    "discount_factor = np.exp(-r * dt)"
   ]
  },
  {
   "cell_type": "code",
   "execution_count": 57,
   "id": "37b998b6-3499-41ac-a897-146cf8671517",
   "metadata": {},
   "outputs": [
    {
     "data": {
      "text/plain": [
       "5.39049017299104"
      ]
     },
     "execution_count": 57,
     "metadata": {},
     "output_type": "execute_result"
    }
   ],
   "source": [
    "## Initialize S_t and V_t\n",
    "S_t = np.array([S_0 * u**(TimeStep - k) * d**k for k in range(TimeStep + 1)])\n",
    "V_t = np.zeros(TimeStep + 1); V_t = payoff(S_t, K)\n",
    "\n",
    "for each_timestep in range(TimeStep):\n",
    "    V_t[:-1] = discount_factor * (qu * V_t[:-1] + qd * V_t[1:])\n",
    "    S_t = S_t * d\n",
    "    V_t = np.maximum(V_t, payoff(S_t, K))\n",
    "V_t[0]\n"
   ]
  },
  {
   "cell_type": "code",
   "execution_count": 48,
   "id": "df14d284-6040-4c86-af5d-f30808c25d5f",
   "metadata": {},
   "outputs": [
    {
     "data": {
      "text/plain": [
       "5.430851935906559"
      ]
     },
     "execution_count": 48,
     "metadata": {},
     "output_type": "execute_result"
    }
   ],
   "source": []
  }
 ],
 "metadata": {
  "kernelspec": {
   "display_name": "Python 3 (ipykernel)",
   "language": "python",
   "name": "python3"
  },
  "language_info": {
   "codemirror_mode": {
    "name": "ipython",
    "version": 3
   },
   "file_extension": ".py",
   "mimetype": "text/x-python",
   "name": "python",
   "nbconvert_exporter": "python",
   "pygments_lexer": "ipython3",
   "version": "3.10.0"
  }
 },
 "nbformat": 4,
 "nbformat_minor": 5
}
